{
 "cells": [
  {
   "attachments": {},
   "cell_type": "markdown",
   "metadata": {},
   "source": [
    "### All types of Data Types in Javascirpt\n",
    "\n",
    "1. Number: This data type is used to represent numbers, including integers, floating-point numbers, and special values like NaN (not a number) and Infinity.\n",
    "\n",
    "2. String: This data type is used to represent sequences of characters, such as words, sentences, and paragraphs. Strings are enclosed in either single or double quotes.\n",
    "\n",
    "3. Boolean: This data type is used to represent true or false values.\n",
    "\n",
    "4. Symbol: This data type is used to create unique identifiers for objects.\n",
    "\n",
    "5. Object: This data type is used to represent a wide range of values, including objects, arrays, and functions.\n",
    "\n",
    "6. Special (null, undefined): These are special types that are often used to indicate the absence of a value. null represents a intentional absence of any object value, whereas undefined indicates a missing value or uninitialized variable.\n",
    "\n",
    "Additionally, JavaScript also supports another two data types, but only the presence of them is not guaranteed all the time, they are:\n",
    "\n",
    "7. BigInt : This is a new data type added in ECMAScript 2020, that allows you to represent integers greater than Number.MAX_SAFE_INTEGER (253-1)\n",
    "\n",
    "8. Function: A JavaScript function is a block of code that can be executed when \"called\" for. Functions can be defined with the function keyword, and they can accept zero or more parameters.\n",
    "\n",
    "\n",
    "### Iterable Objects in Javascirpt\n",
    "- Strings\n",
    "- Array\n",
    "- Set\n",
    "- Map\n"
   ]
  }
 ],
 "metadata": {
  "language_info": {
   "name": "python"
  },
  "orig_nbformat": 4
 },
 "nbformat": 4,
 "nbformat_minor": 2
}
