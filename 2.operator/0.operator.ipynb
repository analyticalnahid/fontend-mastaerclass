{
 "cells": [
  {
   "attachments": {},
   "cell_type": "markdown",
   "metadata": {},
   "source": [
    "### All Types Of Operator In Javascript\n",
    "- Arithmetic Operators\n",
    "- Assignment Operators\n",
    "- Comparison Operators\n",
    "- Logical Operators\n",
    "- Conditional Operators\n",
    "- Type Operators\n",
    "- Bitwise Operator\n",
    "\n",
    "    In JavaScript, bitwise operators are used to perform bit-level operations on numbers. These operators work on the individual bits of a number, rather than the number as a whole\n",
    "\n",
    "### Operator Precedence\n",
    "\n",
    "### Operator Asscociativity"
   ]
  }
 ],
 "metadata": {
  "language_info": {
   "name": "python"
  },
  "orig_nbformat": 4
 },
 "nbformat": 4,
 "nbformat_minor": 2
}
